{
 "cells": [
  {
   "cell_type": "markdown",
   "metadata": {
    "application/vnd.databricks.v1+cell": {
     "cellMetadata": {
      "byteLimit": 2048000,
      "rowLimit": 10000
     },
     "inputWidgets": {},
     "nuid": "78529078-0794-4ffe-8f18-dcd0131c332d",
     "showTitle": false,
     "tableResultSettingsMap": {},
     "title": ""
    },
    "papermill": {
     "duration": 0.006683,
     "end_time": "2024-11-02T12:01:08.739917",
     "exception": false,
     "start_time": "2024-11-02T12:01:08.733234",
     "status": "completed"
    },
    "tags": []
   },
   "source": [
    "# 🌍🔋 EDAチュートリアル: 世界のエネルギーと排出データの探索 🔍🌱\n",
    "\n",
    "---\n",
    "\n",
    "このノートブックでは、世界のエネルギー消費と温室効果ガス排出データを深く掘り下げ、グローバルな傾向、地域の格差、再生可能エネルギーの影響の増大を強調する洞察を探ります。一連のデータビジュアライゼーションと分析を通じて、以下のトピックを調査します:\n",
    "\n",
    "- **エネルギー消費が多い国と再生可能エネルギーのリーダー** 🌍🔋\n",
    "- **地域ごとの温室効果ガス排出の傾向** 🏭🌱\n",
    "- **世界のエネルギー需要の予測** 📊👥\n",
    "\n",
    "エネルギー使用のダイナミクスと持続可能な未来への影響を理解するためのこの探索に参加してください！ 🌱"
   ]
  },
  {
   "cell_type": "markdown",
   "metadata": {
    "application/vnd.databricks.v1+cell": {
     "cellMetadata": {
      "byteLimit": 2048000,
      "rowLimit": 10000
     },
     "inputWidgets": {},
     "nuid": "d96f0fb0-d2cd-49f9-83c7-4eef65361579",
     "showTitle": false,
     "tableResultSettingsMap": {},
     "title": ""
    }
   },
   "source": [
    "# データセットのダウンロード\n",
    "\n",
    "このチュートリアルでは、グローバルなエネルギーと排出データを調査することで、EDA技術を実演します。以下のリンクからKaggleの[Our World in Dataによるエネルギー消費データセット](https://www.kaggle.com/datasets/whisperingkahuna/energy-consumption-dataset-by-our-world-in-data/code)をダウンロードしてください。このチュートリアルでは、`owid-energy-data.csv`ファイルを使用します。\n",
    "\n",
    "このノートブックからデータセットをDatabricksワークスペースにインポートするには:\n",
    "\n",
    "1. 左側のフォルダーアイコンをクリックしてワークスペースサイドパネルを開きます。\n",
    "2. CSVファイル`owid-energy-data.csv`をパネルにドラッグアンドドロップします。あるいは、ケバブメニューをクリックして**インポート**を選択し、ファイルを選択します。\n",
    "3. **インポート**をクリックします。ファイルがワークスペースに表示されるはずです。\n",
    "\n",
    "データセットのファイルパスに注意してください。このノートブックで使用する必要があります。ファイル名を右クリックして、**URL/パスをコピー > フルパス**を選択すると、ファイルパスをクリップボードにコピーできます。"
   ]
  },
  {
   "cell_type": "markdown",
   "metadata": {
    "application/vnd.databricks.v1+cell": {
     "cellMetadata": {
      "byteLimit": 2048000,
      "rowLimit": 10000
     },
     "inputWidgets": {},
     "nuid": "1339bf68-2162-42d7-9a6c-27bd6826662a",
     "showTitle": false,
     "tableResultSettingsMap": {},
     "title": ""
    },
    "papermill": {
     "duration": 0.006126,
     "end_time": "2024-11-02T12:01:08.752037",
     "exception": false,
     "start_time": "2024-11-02T12:01:08.745911",
     "status": "completed"
    },
    "tags": []
   },
   "source": [
    "# データのロード"
   ]
  },
  {
   "cell_type": "code",
   "execution_count": 0,
   "metadata": {
    "_kg_hide-input": true,
    "application/vnd.databricks.v1+cell": {
     "cellMetadata": {
      "byteLimit": 2048000,
      "rowLimit": 10000
     },
     "inputWidgets": {},
     "nuid": "0cdddd6c-fc85-4285-b3ca-67f9b6893ecf",
     "showTitle": false,
     "tableResultSettingsMap": {},
     "title": ""
    },
    "execution": {
     "iopub.execute_input": "2024-11-02T12:01:08.766120Z",
     "iopub.status.busy": "2024-11-02T12:01:08.765621Z",
     "iopub.status.idle": "2024-11-02T12:01:09.994476Z",
     "shell.execute_reply": "2024-11-02T12:01:09.993491Z"
    },
    "papermill": {
     "duration": 1.239016,
     "end_time": "2024-11-02T12:01:09.997237",
     "exception": false,
     "start_time": "2024-11-02T12:01:08.758221",
     "status": "completed"
    },
    "tags": []
   },
   "outputs": [],
   "source": [
    "import numpy as np \n",
    "import pandas as pd # データ処理、CSVファイルの入出力（例：pd.read_csv）\n",
    "df=pd.read_csv('/Workspace/Users/takaaki.yayoi@databricks.com/20250507_databricks_eda/owid-energy-data.csv') # 最後のステップでコピーしたデータのフルパスにここを置き換えてください"
   ]
  },
  {
   "cell_type": "markdown",
   "metadata": {
    "application/vnd.databricks.v1+cell": {
     "cellMetadata": {
      "byteLimit": 2048000,
      "rowLimit": 10000
     },
     "inputWidgets": {},
     "nuid": "71ecc18d-57c5-4cdf-b95c-ddb5fc210bb7",
     "showTitle": false,
     "tableResultSettingsMap": {},
     "title": ""
    }
   },
   "source": [
    "# データを理解する\n",
    "\n",
    "データセットの基本を理解することは、データサイエンスプロジェクトにおいて重要です。これは、データの構造、種類、および品質に慣れることを含みます。\n",
    "\n",
    "Databricksでは、`display(df)`コマンドを使用してデータセットを表示できます。データセットが10,000行を超えるため、このコマンドは切り捨てられたデータセットを返します。各列の左側には、列のデータ型が表示されます。"
   ]
  },
  {
   "cell_type": "code",
   "execution_count": 0,
   "metadata": {
    "application/vnd.databricks.v1+cell": {
     "cellMetadata": {
      "byteLimit": 2048000,
      "rowLimit": 10000
     },
     "inputWidgets": {},
     "nuid": "df081ef1-ec63-47a1-9c09-1de65613b164",
     "showTitle": false,
     "tableResultSettingsMap": {
      "0": {
       "dataGridStateBlob": null,
       "filterBlob": "{\"filterGroups\":[],\"syncTimestamp\":1738885013967}",
       "queryPlanFiltersBlob": null,
       "tableResultIndex": 0
      }
     },
     "title": ""
    }
   },
   "outputs": [],
   "source": [
    "display(df)"
   ]
  },
  {
   "cell_type": "markdown",
   "metadata": {
    "application/vnd.databricks.v1+cell": {
     "cellMetadata": {
      "byteLimit": 2048000,
      "rowLimit": 10000
     },
     "inputWidgets": {},
     "nuid": "a973d216-9124-4e7f-9c52-e8ea9f264f9e",
     "showTitle": false,
     "tableResultSettingsMap": {},
     "title": ""
    }
   },
   "source": [
    "## pandasを使用してデータの洞察を得る\n",
    "データセットを効果的に理解するために、以下のpandasコマンドを使用します：\n",
    "\n",
    "- `df.shape`コマンドはDataFrameの寸法を返し、行と列の数をすばやく把握できます。\n",
    "- `df.dtypes`コマンドは各列のデータ型を提供し、扱っているデータの種類を理解するのに役立ちます。結果テーブルでも各列のデータ型を確認できます。\n",
    "- `df.describe()`コマンドは、平均、標準偏差、パーセンタイルなどの数値列に関する記述統計を生成し、パターンの特定、異常の検出、データの分布の理解に役立ちます。また、行と列の数も教えてくれます。"
   ]
  },
  {
   "cell_type": "code",
   "execution_count": 0,
   "metadata": {
    "application/vnd.databricks.v1+cell": {
     "cellMetadata": {
      "byteLimit": 2048000,
      "rowLimit": 10000
     },
     "inputWidgets": {},
     "nuid": "9bddea9d-50b4-42c5-a931-83eb3889153b",
     "showTitle": false,
     "tableResultSettingsMap": {},
     "title": ""
    }
   },
   "outputs": [],
   "source": [
    "df.shape # データフレームの行数と列数を返します"
   ]
  },
  {
   "cell_type": "code",
   "execution_count": 0,
   "metadata": {
    "application/vnd.databricks.v1+cell": {
     "cellMetadata": {
      "byteLimit": 2048000,
      "rowLimit": 10000
     },
     "inputWidgets": {},
     "nuid": "ac210172-47b1-4299-9d8f-e82aa1b9dacc",
     "showTitle": false,
     "tableResultSettingsMap": {},
     "title": ""
    }
   },
   "outputs": [],
   "source": [
    "df.dtypes # 各列とそのデータ型のリストを返します"
   ]
  },
  {
   "cell_type": "code",
   "execution_count": 0,
   "metadata": {
    "application/vnd.databricks.v1+cell": {
     "cellMetadata": {
      "byteLimit": 2048000,
      "rowLimit": 10000
     },
     "inputWidgets": {},
     "nuid": "32e170dc-ec8e-40de-80c1-f6f400fec3b9",
     "showTitle": false,
     "tableResultSettingsMap": {},
     "title": ""
    }
   },
   "outputs": [],
   "source": [
    "# データセットの要約統計量を返します\n",
    "df.describe()"
   ]
  },
  {
   "cell_type": "markdown",
   "metadata": {
    "application/vnd.databricks.v1+cell": {
     "cellMetadata": {
      "byteLimit": 2048000,
      "rowLimit": 10000
     },
     "inputWidgets": {},
     "nuid": "86dad119-ff55-48c3-9c37-ec3c05d8a85a",
     "showTitle": false,
     "tableResultSettingsMap": {},
     "title": ""
    }
   },
   "source": [
    "## データプロファイルを生成する\n",
    "\n",
    "Databricksノートブックには、組み込みのデータプロファイリング機能が含まれています。Databricksの`display`関数を使用してDataFrameを表示する際に、データプロファイルを生成できます。\n",
    "\n",
    "以下のコードを実行し、出力の**Table**の横にある **+ -> データプロファイル** をクリックします。これにより、データフレーム内のデータのプロファイルを生成する新しいコマンドが自動的に実行されます。プロファイルには、数値、文字列、および日付列の要約統計と、各列の値分布のヒストグラムが含まれます。このコマンドは、テーブルに表示される部分（切り捨てられることがあります）ではなく、データフレームまたはSQLクエリ結果の全体データセットをプロファイルします。"
   ]
  },
  {
   "cell_type": "code",
   "execution_count": 0,
   "metadata": {
    "application/vnd.databricks.v1+cell": {
     "cellMetadata": {
      "byteLimit": 2048000,
      "rowLimit": 10000
     },
     "inputWidgets": {},
     "nuid": "e6164141-0d69-4db3-af41-649b7934ba78",
     "showTitle": false,
     "tableResultSettingsMap": {},
     "title": ""
    }
   },
   "outputs": [
    {
     "output_type": "display_data",
     "data": {
      "text/plain": [
       "Databricks data profile. Run in Databricks to view."
      ]
     },
     "metadata": {
      "application/vnd.databricks.v1.subcommand+json": {
       "baseErrorDetails": null,
       "bindings": {},
       "collapsed": false,
       "command": "%python\nif hasattr(dbutils, \"data\") and hasattr(dbutils.data, \"summarize\"):\n  # setup\n  __data_summary_display_orig = display\n  __data_summary_dfs = []\n  def __data_summary_display_new(df):\n    # add only when result is going to be table type\n    __data_summary_df_modules = [\"pandas.core.frame\", \"databricks.koalas.frame\", \"pyspark.sql.dataframe\", \"pyspark.pandas.frame\", \"pyspark.sql.connect.dataframe\"]\n    if (type(df).__module__ in __data_summary_df_modules and type(df).__name__ == 'DataFrame') or isinstance(df, list):\n      __data_summary_dfs.append(df)\n  display = __data_summary_display_new\n\n  def __data_summary_user_code_fn():\n    import base64\n    exec(base64.standard_b64decode(\"IyDjg4fjg7zjgr/jg5Xjg6zjg7zjg6DjgpLooajnpLrjgZfjgIHmrKHjgavjgIwrIC0+IOODh+ODvOOCv+ODl+ODreODleOCoeOCpOODq+OAjeOCkuOCr+ODquODg+OCr+OBl+OBpuODh+ODvOOCv+ODl+ODreODleOCoeOCpOODq+OCkueUn+aIkOOBl+OBvuOBmQpkaXNwbGF5KGRmKQ==\").decode())\n\n  try:\n    # run user code\n    __data_summary_user_code_fn()\n\n    # run on valid tableResultIndex\n    if len(__data_summary_dfs) > 0:\n      # run summarize\n      if type(__data_summary_dfs[0]).__module__ == \"databricks.koalas.frame\":\n        # koalas dataframe\n        dbutils.data.summarize(__data_summary_dfs[0].to_spark())\n      elif type(__data_summary_dfs[0]).__module__ == \"pandas.core.frame\":\n        # pandas dataframe\n        dbutils.data.summarize(spark.createDataFrame(__data_summary_dfs[0]))\n      else:\n        dbutils.data.summarize(__data_summary_dfs[0])\n    else:\n        displayHTML(\"dataframe no longer exists. If you're using dataframe.display(), use display(dataframe) instead.\")\n\n  finally:\n    display = __data_summary_display_orig\n    del __data_summary_display_new\n    del __data_summary_display_orig\n    del __data_summary_dfs\n    del __data_summary_user_code_fn\nelse:\n  print(\"This DBR version does not support data profiles.\")",
       "commandTitle": "データプロファイル 1",
       "commandType": "auto",
       "commandVersion": 0,
       "commentThread": [],
       "commentsVisible": false,
       "contentSha256Hex": null,
       "customPlotOptions": {},
       "datasetPreviewNameToCmdIdMap": {},
       "diffDeletes": [],
       "diffInserts": [],
       "displayType": "table",
       "error": null,
       "errorDetails": null,
       "errorSummary": null,
       "errorTraceType": null,
       "finishTime": 1746600593169,
       "globalVars": {},
       "guid": "",
       "height": "auto",
       "hideCommandCode": false,
       "hideCommandResult": false,
       "iPythonMetadata": null,
       "inputWidgets": {},
       "isLockedInExamMode": false,
       "latestUser": "a user",
       "latestUserId": null,
       "listResultMetadata": [
        [
         "mimeBundle",
         null
        ]
       ],
       "metadata": {
        "byteLimit": 2048000,
        "rowLimit": 10000
       },
       "nuid": "42c8f136-2278-4a33-9e99-1055075e5e65",
       "origId": 0,
       "parentHierarchy": [],
       "pivotAggregation": null,
       "pivotColumns": null,
       "position": 13.5,
       "resultDbfsErrorMessage": null,
       "resultDbfsStatus": "INLINED_IN_TREE",
       "results": null,
       "showCommandTitle": false,
       "startTime": 1746600579360,
       "state": "input",
       "streamStates": {},
       "subcommandOptions": null,
       "submitTime": 1746600579327,
       "subtype": "tableResultSubCmd.dataSummary",
       "tableResultIndex": 0,
       "tableResultSettingsMap": {},
       "useConsistentColors": false,
       "version": "CommandV1",
       "width": "auto",
       "workflows": null,
       "xColumns": null,
       "yColumns": null
      }
     },
     "output_type": "display_data"
    }
   ],
   "source": [
    "# データフレームを表示し、次に「+ -> データプロファイル」をクリックしてデータプロファイルを生成します\n",
    "display(df)"
   ]
  },
  {
   "cell_type": "markdown",
   "metadata": {
    "application/vnd.databricks.v1+cell": {
     "cellMetadata": {
      "byteLimit": 2048000,
      "rowLimit": 10000
     },
     "inputWidgets": {},
     "nuid": "99d181b7-3fe1-4319-a5ef-036ac32da0c1",
     "showTitle": false,
     "tableResultSettingsMap": {},
     "title": ""
    }
   },
   "source": [
    "# データのクリーンアップ\n",
    "\n",
    "データのクリーンアップは、データセットが正確で一貫性があり、意味のある分析に準備が整っていることを確認するためのEDAの重要なステップです。このプロセスには、データを分析に適した状態にするためのいくつかの重要なタスクが含まれます。\n",
    "\n",
    "- 重複データの特定と削除。\n",
    "- 欠損値の処理。特定の値で置き換えるか、影響を受ける行を削除することが含まれます。\n",
    "- データ型の標準化（例：文字列を`datetime`に変換）を通じて一貫性を確保する。作業しやすい形式にデータを変換することも考慮します。\n",
    "\n",
    "このクリーンアップフェーズは、データの品質と信頼性を向上させ、より正確で洞察に満ちた分析を可能にします。"
   ]
  },
  {
   "cell_type": "markdown",
   "metadata": {
    "application/vnd.databricks.v1+cell": {
     "cellMetadata": {
      "byteLimit": 2048000,
      "rowLimit": 10000
     },
     "inputWidgets": {},
     "nuid": "c4ca282a-2457-47cf-860f-4b501a14986f",
     "showTitle": false,
     "tableResultSettingsMap": {},
     "title": ""
    }
   },
   "source": [
    "## ヒント: アシスタントにデータクリーンアップのコード生成を依頼してみてください\n",
    "\n",
    "Databricksアシスタントを使用してコードを生成することができます。新しいコードセルを作成し、「生成」リンクをクリックするか、右上のアシスタントアイコンを使用してアシスタントを開きます。アシスタントにクエリを入力します。例えば、アシスタントにデータを説明するように依頼します。\n",
    "\n",
    "例えば、次のプロンプトを使用してデータクリーンアップのコードを迅速に生成してみてください:\n",
    "- dfに重複する列や行が含まれているか確認します。重複を表示し、削除します。\n",
    "- 日付列の形式は何ですか？ 'YYYY-MM-DD' に変更します。\n",
    "- XXX列は使用しないので、削除します。"
   ]
  },
  {
   "cell_type": "code",
   "execution_count": 0,
   "metadata": {
    "application/vnd.databricks.v1+cell": {
     "cellMetadata": {
      "byteLimit": 2048000,
      "rowLimit": 10000
     },
     "inputWidgets": {},
     "nuid": "d122335d-2b8e-45b4-88af-fa9364c0b2ff",
     "showTitle": false,
     "tableResultSettingsMap": {},
     "title": ""
    }
   },
   "outputs": [],
   "source": [
    "# 重複する行をチェック\n",
    "duplicate_rows = df.duplicated().sum()\n",
    "\n",
    "# 重複する列をチェック\n",
    "duplicate_columns = df.columns[df.columns.duplicated()].tolist()\n",
    "\n",
    "# 重複を表示\n",
    "print(\"重複する行の数:\", duplicate_rows)\n",
    "print(\"重複する列:\", duplicate_columns)\n",
    "\n",
    "# 重複する行を削除\n",
    "df = df.drop_duplicates()\n",
    "\n",
    "# 重複する列を削除\n",
    "df = df.loc[:, ~df.columns.duplicated()]"
   ]
  },
  {
   "cell_type": "markdown",
   "metadata": {
    "application/vnd.databricks.v1+cell": {
     "cellMetadata": {
      "byteLimit": 2048000,
      "rowLimit": 10000
     },
     "inputWidgets": {},
     "nuid": "0cb2bc10-a9d9-4a18-b4b3-0cba776004ee",
     "showTitle": false,
     "tableResultSettingsMap": {},
     "title": ""
    }
   },
   "source": [
    "## （オプション）アシスタントに重複データの削除を依頼する"
   ]
  },
  {
   "cell_type": "code",
   "execution_count": 0,
   "metadata": {
    "application/vnd.databricks.v1+cell": {
     "cellMetadata": {
      "byteLimit": 2048000,
      "rowLimit": 10000
     },
     "inputWidgets": {},
     "nuid": "2c6586a2-a66a-48d5-8961-b27947551141",
     "showTitle": false,
     "tableResultSettingsMap": {},
     "title": ""
    }
   },
   "outputs": [],
   "source": [
    "# アシスタントを開くには、このセルの右上にあるピンクのダイヤモンドアイコンをクリックし、重複データをチェックするように依頼します。\n",
    "# 例えば、次のプロンプトを入力します: \"dfに重複する列や行が含まれているか確認してください。重複を表示してください。その後、重複を削除してください。\"\n",
    "# アシスタントは次のようなコードを生成します。\n",
    "\n",
    "'''\n",
    "# 重複する行をチェック\n",
    "duplicate_rows = df.duplicated().sum()\n",
    "\n",
    "# 重複する列をチェック\n",
    "duplicate_columns = df.columns[df.columns.duplicated()].tolist()\n",
    "\n",
    "# 重複を表示\n",
    "print(\"重複する行の数:\", duplicate_rows)\n",
    "print(\"重複する列:\", duplicate_columns)\n",
    "\n",
    "# 重複する行を削除\n",
    "df = df.drop_duplicates()\n",
    "\n",
    "# 重複する列を削除\n",
    "df = df.loc[:, ~df.columns.duplicated()]\n",
    "'''\n",
    "\n",
    "# 左上の「提案を実行」をクリックしてコードを実行し、結果を確認できます。\n",
    "# 提案が気に入ったら「承諾」をクリックすると、そのセルのコードが置き換えられます。気に入らなければ「拒否」をクリックして再試行できます。"
   ]
  },
  {
   "cell_type": "markdown",
   "metadata": {
    "application/vnd.databricks.v1+cell": {
     "cellMetadata": {
      "byteLimit": 2048000,
      "rowLimit": 10000
     },
     "inputWidgets": {},
     "nuid": "6b612c58-b3fd-4c36-93de-0e9973108824",
     "showTitle": false,
     "tableResultSettingsMap": {},
     "title": ""
    }
   },
   "source": [
    "## 重複データの削除"
   ]
  },
  {
   "cell_type": "code",
   "execution_count": 0,
   "metadata": {
    "application/vnd.databricks.v1+cell": {
     "cellMetadata": {
      "byteLimit": 2048000,
      "rowLimit": 10000
     },
     "inputWidgets": {},
     "nuid": "609f63f6-7f8a-4be6-9bb9-eccd4db5154a",
     "showTitle": false,
     "tableResultSettingsMap": {},
     "title": ""
    }
   },
   "outputs": [],
   "source": [
    "# 重複する行をチェック\n",
    "duplicate_rows = df.duplicated().sum()\n",
    "\n",
    "# 重複する列をチェック\n",
    "duplicate_columns = df.columns[df.columns.duplicated()].tolist()\n",
    "\n",
    "# 重複を表示\n",
    "print(\"重複する行の数:\", duplicate_rows)\n",
    "print(\"重複する列:\", duplicate_columns)\n",
    "\n",
    "# 重複する行を削除\n",
    "df = df.drop_duplicates()\n",
    "\n",
    "# 重複する列を削除\n",
    "df = df.loc[:, ~df.columns.duplicated()]"
   ]
  },
  {
   "cell_type": "markdown",
   "metadata": {
    "application/vnd.databricks.v1+cell": {
     "cellMetadata": {
      "byteLimit": 2048000,
      "rowLimit": 10000
     },
     "inputWidgets": {},
     "nuid": "7fda7dc2-9408-4c14-a135-f70cb7dca446",
     "showTitle": false,
     "tableResultSettingsMap": {},
     "title": ""
    }
   },
   "source": [
    "## null値または欠損値の処理"
   ]
  },
  {
   "cell_type": "code",
   "execution_count": 0,
   "metadata": {
    "_kg_hide-input": true,
    "_kg_hide-output": true,
    "application/vnd.databricks.v1+cell": {
     "cellMetadata": {
      "byteLimit": 2048000,
      "rowLimit": 10000
     },
     "inputWidgets": {},
     "nuid": "54029e6a-743c-42c5-932e-ddf6314cf51e",
     "showTitle": false,
     "tableResultSettingsMap": {},
     "title": ""
    },
    "execution": {
     "iopub.execute_input": "2024-11-02T12:01:10.010886Z",
     "iopub.status.busy": "2024-11-02T12:01:10.010470Z",
     "iopub.status.idle": "2024-11-02T12:01:10.068212Z",
     "shell.execute_reply": "2024-11-02T12:01:10.066465Z"
    },
    "papermill": {
     "duration": 0.067543,
     "end_time": "2024-11-02T12:01:10.070880",
     "exception": false,
     "start_time": "2024-11-02T12:01:10.003337",
     "status": "completed"
    },
    "tags": []
   },
   "outputs": [],
   "source": [
    "# すべてのNaN（Not a Number）値を0に置換\n",
    "df = df.fillna(0)\n",
    "display(df.head())"
   ]
  },
  {
   "cell_type": "markdown",
   "metadata": {
    "application/vnd.databricks.v1+cell": {
     "cellMetadata": {
      "byteLimit": 2048000,
      "rowLimit": 10000
     },
     "inputWidgets": {},
     "nuid": "c8f0fab9-e835-4a57-8a16-987453c98fc1",
     "showTitle": false,
     "tableResultSettingsMap": {},
     "title": ""
    }
   },
   "source": [
    "## 日付の再フォーマット"
   ]
  },
  {
   "cell_type": "code",
   "execution_count": 0,
   "metadata": {
    "application/vnd.databricks.v1+cell": {
     "cellMetadata": {
      "byteLimit": 2048000,
      "rowLimit": 10000
     },
     "inputWidgets": {},
     "nuid": "59a7d746-38f3-4cf9-bc5b-68af41513e47",
     "showTitle": false,
     "tableResultSettingsMap": {},
     "title": ""
    }
   },
   "outputs": [],
   "source": [
    "# 'year'列が正しいデータ型（年の整数）に変換されていることを確認\n",
    "df['year'] = pd.to_datetime(df['year'], format='%Y', errors='coerce').dt.year\n",
    "\n",
    "# 変更を確認\n",
    "df.year.dtype"
   ]
  },
  {
   "cell_type": "markdown",
   "metadata": {
    "application/vnd.databricks.v1+cell": {
     "cellMetadata": {
      "byteLimit": 2048000,
      "rowLimit": 10000
     },
     "inputWidgets": {},
     "nuid": "446a4dbc-2739-4bff-8b56-da7051f13c3e",
     "showTitle": false,
     "tableResultSettingsMap": {},
     "title": ""
    }
   },
   "source": [
    "# Databricksノートブックの出力テーブルを使用してデータを探索する\n",
    "\n",
    "Databricksは、出力テーブルを使用してデータを探索するための組み込み機能を提供しています。\n",
    "\n",
    "新しいセルで、display(df)を使用してデータセットをテーブルとして表示します。\n",
    "\n",
    "出力テーブルからは以下のことができます：\n",
    "\n",
    "- **特定の文字列や値を検索する。** テーブルの右上にある検索アイコンをクリックし、検索内容を入力します。\n",
    "- **特定の条件でフィルタリングする。** 組み込みのテーブルフィルタを使用して、特定の条件で列をフィルタリングできます。\n",
    "  \n",
    "  **ヒント:** フィルタを生成するためにアシスタントを使用します。フィルタアイコンをクリックし、希望するフィルタ条件を入力します。\n",
    "\n",
    "  <img src=\"https://docs.databricks.com/_static/images/notebooks/eda-table-filter.gif\"/>\n",
    "\n",
    "- **データセットを使用して可視化を作成する。** 出力テーブルの上部で、**+ > Visualization**をクリックして可視化エディタを開きます。\n",
    "\n",
    "  以下の画像は、複数の折れ線グラフを追加して、さまざまな再生可能エネルギー源の消費を時系列で表示する方法を示しています。\n",
    "\n",
    "  <img src=\"https://docs.databricks.com/_static/images/notebooks/eda-visualization-editor.png\"/>"
   ]
  },
  {
   "cell_type": "code",
   "execution_count": 0,
   "metadata": {
    "application/vnd.databricks.v1+cell": {
     "cellMetadata": {
      "byteLimit": 2048000,
      "rowLimit": 10000
     },
     "inputWidgets": {},
     "nuid": "1c995663-6d25-4543-aca0-5fc8a1f35238",
     "showTitle": false,
     "tableResultSettingsMap": {},
     "title": ""
    }
   },
   "outputs": [
    {
     "output_type": "display_data",
     "data": {
      "text/plain": [
       "Databricks visualization. Run in Databricks to view."
      ]
     },
     "metadata": {
      "application/vnd.databricks.v1.subcommand+json": {
       "baseErrorDetails": null,
       "bindings": {},
       "collapsed": false,
       "command": "%python\n__backend_agg_display_orig = display\n__backend_agg_dfs = []\ndef __backend_agg_display_new(df):\n    __backend_agg_df_modules = [\"pandas.core.frame\", \"databricks.koalas.frame\", \"pyspark.sql.dataframe\", \"pyspark.pandas.frame\", \"pyspark.sql.connect.dataframe\"]\n    if (type(df).__module__ in __backend_agg_df_modules and type(df).__name__ == 'DataFrame') or isinstance(df, list):\n        __backend_agg_dfs.append(df)\n\ndisplay = __backend_agg_display_new\n\ndef __backend_agg_user_code_fn():\n    import base64\n    exec(base64.standard_b64decode(\"ZGlzcGxheShkZik=\").decode())\n\ntry:\n    # run user code\n    __backend_agg_user_code_fn()\n\n    #reset display function\n    display = __backend_agg_display_orig\n\n    if len(__backend_agg_dfs) > 0:\n        # create a temp view\n        if type(__backend_agg_dfs[0]).__module__ == \"databricks.koalas.frame\":\n            # koalas dataframe\n            __backend_agg_dfs[0].to_spark().createOrReplaceTempView(\"DatabricksView255df8d\")\n        elif type(__backend_agg_dfs[0]).__module__ == \"pandas.core.frame\" or isinstance(__backend_agg_dfs[0], list):\n            # pandas dataframe\n            spark.createDataFrame(__backend_agg_dfs[0]).createOrReplaceTempView(\"DatabricksView255df8d\")\n        else:\n            __backend_agg_dfs[0].createOrReplaceTempView(\"DatabricksView255df8d\")\n        #run backend agg\n        display(spark.sql(\"\"\"WITH q AS (select * from DatabricksView255df8d) SELECT `year`,SUM(`renewables_consumption`) `column_988f3c67256`,SUM(`hydro_consumption`) `column_988f3c67259`,SUM(`solar_consumption`) `column_988f3c67262`,SUM(`wind_consumption`) `column_988f3c67265`,SUM(`other_renewable_consumption`) `column_988f3c67268` FROM q GROUP BY `year`\"\"\"))\n    else:\n        displayHTML(\"dataframe no longer exists. If you're using dataframe.display(), use display(dataframe) instead.\")\n\n\nfinally:\n    spark.sql(\"drop view if exists DatabricksView255df8d\")\n    display = __backend_agg_display_orig\n    del __backend_agg_display_new\n    del __backend_agg_display_orig\n    del __backend_agg_dfs\n    del __backend_agg_user_code_fn\n\n",
       "commandTitle": "Visualization 1",
       "commandType": "auto",
       "commandVersion": 0,
       "commentThread": [],
       "commentsVisible": false,
       "contentSha256Hex": null,
       "customPlotOptions": {
        "redashChart": [
         {
          "key": "type",
          "value": "CHART"
         },
         {
          "key": "options",
          "value": {
           "alignYAxesAtZero": true,
           "coefficient": 1,
           "columnConfigurationMap": {
            "x": {
             "column": "year",
             "id": "column_988f3c67254"
            },
            "y": [
             {
              "column": "renewables_consumption",
              "id": "column_988f3c67256",
              "transform": "SUM"
             },
             {
              "column": "hydro_consumption",
              "id": "column_988f3c67259",
              "transform": "SUM"
             },
             {
              "column": "solar_consumption",
              "id": "column_988f3c67262",
              "transform": "SUM"
             },
             {
              "column": "wind_consumption",
              "id": "column_988f3c67265",
              "transform": "SUM"
             },
             {
              "column": "other_renewable_consumption",
              "id": "column_988f3c67268",
              "transform": "SUM"
             }
            ]
           },
           "dateTimeFormat": "DD/MM/YYYY HH:mm",
           "direction": {
            "type": "counterclockwise"
           },
           "error_y": {
            "type": "data",
            "visible": true
           },
           "globalSeriesType": "line",
           "isAggregationOn": true,
           "legend": {
            "traceorder": "normal"
           },
           "missingValuesAsZero": true,
           "numberFormat": "0,0.[00000]",
           "percentFormat": "0[.]00%",
           "series": {
            "error_y": {
             "type": "data",
             "visible": true
            },
            "stacking": null
           },
           "seriesOptions": {
            "column_988f3c67256": {
             "type": "line",
             "yAxis": 0
            },
            "column_988f3c67259": {
             "type": "line",
             "yAxis": 0
            },
            "column_988f3c67262": {
             "type": "line",
             "yAxis": 0
            },
            "column_988f3c67265": {
             "type": "line",
             "yAxis": 0
            },
            "column_988f3c67268": {
             "type": "line",
             "yAxis": 0
            }
           },
           "showDataLabels": false,
           "sizemode": "diameter",
           "sortX": true,
           "sortY": true,
           "swappedAxes": false,
           "textFormat": "",
           "useAggregationsUi": true,
           "valuesOptions": {},
           "version": 2,
           "xAxis": {
            "labels": {
             "enabled": true
            },
            "type": "-"
           },
           "yAxis": [
            {
             "type": "-"
            },
            {
             "opposite": true,
             "type": "-"
            }
           ]
          }
         }
        ]
       },
       "datasetPreviewNameToCmdIdMap": {},
       "diffDeletes": [],
       "diffInserts": [],
       "displayType": "redashChart",
       "error": null,
       "errorDetails": null,
       "errorSummary": null,
       "errorTraceType": null,
       "finishTime": 0,
       "globalVars": {},
       "guid": "",
       "height": "auto",
       "hideCommandCode": false,
       "hideCommandResult": false,
       "iPythonMetadata": null,
       "inputWidgets": {},
       "isLockedInExamMode": false,
       "latestUser": "a user",
       "latestUserId": null,
       "listResultMetadata": null,
       "metadata": {
        "byteLimit": 2048000,
        "rowLimit": 10000
       },
       "nuid": "d25d4f06-2a93-47dd-8081-3270e77714f9",
       "origId": 0,
       "parentHierarchy": [],
       "pivotAggregation": null,
       "pivotColumns": null,
       "position": 18.5,
       "resultDbfsErrorMessage": null,
       "resultDbfsStatus": "INLINED_IN_TREE",
       "results": null,
       "showCommandTitle": false,
       "startTime": 0,
       "state": "input",
       "streamStates": {},
       "subcommandOptions": {
        "queryPlan": {
         "groups": [
          {
           "column": "year",
           "type": "column"
          }
         ],
         "selects": [
          {
           "column": "year",
           "type": "column"
          },
          {
           "alias": "column_988f3c67256",
           "args": [
            {
             "column": "renewables_consumption",
             "type": "column"
            }
           ],
           "function": "SUM",
           "type": "function"
          },
          {
           "alias": "column_988f3c67259",
           "args": [
            {
             "column": "hydro_consumption",
             "type": "column"
            }
           ],
           "function": "SUM",
           "type": "function"
          },
          {
           "alias": "column_988f3c67262",
           "args": [
            {
             "column": "solar_consumption",
             "type": "column"
            }
           ],
           "function": "SUM",
           "type": "function"
          },
          {
           "alias": "column_988f3c67265",
           "args": [
            {
             "column": "wind_consumption",
             "type": "column"
            }
           ],
           "function": "SUM",
           "type": "function"
          },
          {
           "alias": "column_988f3c67268",
           "args": [
            {
             "column": "other_renewable_consumption",
             "type": "column"
            }
           ],
           "function": "SUM",
           "type": "function"
          }
         ]
        }
       },
       "submitTime": 0,
       "subtype": "tableResultSubCmd.visualization",
       "tableResultIndex": 0,
       "tableResultSettingsMap": {},
       "useConsistentColors": false,
       "version": "CommandV1",
       "width": "auto",
       "workflows": null,
       "xColumns": null,
       "yColumns": null
      }
     },
     "output_type": "display_data"
    }
   ],
   "source": [
    "display(df)"
   ]
  },
  {
   "cell_type": "markdown",
   "metadata": {
    "application/vnd.databricks.v1+cell": {
     "cellMetadata": {
      "byteLimit": 2048000,
      "rowLimit": 10000
     },
     "inputWidgets": {},
     "nuid": "47d961d0-b043-4eae-8205-edda846dd66a",
     "showTitle": false,
     "tableResultSettingsMap": {},
     "title": ""
    }
   },
   "source": [
    "# Pythonライブラリを使用してデータを探索および可視化する\n",
    "\n",
    "可視化を通じたデータの探索は、EDAの基本的な側面です。可視化は、数値分析だけではすぐには明らかにならないデータ内のパターン、トレンド、および関係を明らかにするのに役立ちます。散布図、棒グラフ、折れ線グラフ、ヒストグラムなどの一般的な可視化手法には、PlotlyやMatplotlibなどのライブラリを使用します。これらの視覚的ツールを使用することで、データサイエンティストは異常値を特定し、データの分布を理解し、変数間の相関関係を観察できます。例えば、散布図は外れ値を強調し、時系列プロットはトレンドや季節性を明らかにすることができます。"
   ]
  },
  {
   "cell_type": "markdown",
   "metadata": {
    "application/vnd.databricks.v1+cell": {
     "cellMetadata": {
      "byteLimit": 2048000,
      "rowLimit": 10000
     },
     "inputWidgets": {},
     "nuid": "03857022-31ee-40d6-926b-7ffa69a2899b",
     "showTitle": false,
     "tableResultSettingsMap": {},
     "title": ""
    }
   },
   "source": [
    "## ユニークな国の配列を作成する"
   ]
  },
  {
   "cell_type": "code",
   "execution_count": 0,
   "metadata": {
    "_kg_hide-input": true,
    "_kg_hide-output": true,
    "application/vnd.databricks.v1+cell": {
     "cellMetadata": {
      "byteLimit": 2048000,
      "rowLimit": 10000
     },
     "inputWidgets": {},
     "nuid": "76d3b897-fc5f-4dc1-93c0-010bdc736b65",
     "showTitle": false,
     "tableResultSettingsMap": {},
     "title": ""
    },
    "execution": {
     "iopub.execute_input": "2024-11-02T12:01:10.108856Z",
     "iopub.status.busy": "2024-11-02T12:01:10.108390Z",
     "iopub.status.idle": "2024-11-02T12:01:10.117730Z",
     "shell.execute_reply": "2024-11-02T12:01:10.116497Z"
    },
    "papermill": {
     "duration": 0.019051,
     "end_time": "2024-11-02T12:01:10.119954",
     "exception": false,
     "start_time": "2024-11-02T12:01:10.100903",
     "status": "completed"
    },
    "tags": []
   },
   "outputs": [],
   "source": [
    "# ユニークな国を取得\n",
    "unique_countries = df['country'].unique()\n",
    "unique_countries"
   ]
  },
  {
   "cell_type": "markdown",
   "metadata": {
    "application/vnd.databricks.v1+cell": {
     "cellMetadata": {},
     "inputWidgets": {},
     "nuid": "e63a06f9-2b39-4f57-8a1d-6992fa1e58a6",
     "showTitle": false,
     "tableResultSettingsMap": {},
     "title": ""
    }
   },
   "source": [
    "**洞察**: これにより、国の列には、世界、高所得国、アジア、アメリカ合衆国など、必ずしも直接比較できないさまざまなエンティティが含まれていることがわかります。データを地域別にフィルタリングする方が有用かもしれません。"
   ]
  },
  {
   "cell_type": "markdown",
   "metadata": {
    "application/vnd.databricks.v1+cell": {
     "cellMetadata": {
      "byteLimit": 2048000,
      "rowLimit": 10000
     },
     "inputWidgets": {},
     "nuid": "44d2e900-578d-4aa5-aa9b-90d5c9d83c5d",
     "showTitle": false,
     "tableResultSettingsMap": {},
     "title": ""
    }
   },
   "source": [
    "## 主要10カ国の排出量の傾向をチャート化 (2000 - 2022)"
   ]
  },
  {
   "cell_type": "code",
   "execution_count": 0,
   "metadata": {
    "application/vnd.databricks.v1+cell": {
     "cellMetadata": {
      "byteLimit": 2048000,
      "rowLimit": 10000
     },
     "inputWidgets": {},
     "nuid": "3272f866-5cb7-42a8-a269-28bc18d94811",
     "showTitle": false,
     "tableResultSettingsMap": {},
     "title": ""
    }
   },
   "outputs": [],
   "source": [
    "import plotly.express as px\n",
    "\n",
    "# データを2000年から2022年までの年にフィルタリング\n",
    "filtered_data = df[(df['year'] >= 2000) & (df['year'] <= 2022)]\n",
    "\n",
    "# フィルタリングされたデータで排出量が最も多い上位10か国を取得\n",
    "top_countries = filtered_data.groupby('country')['greenhouse_gas_emissions'].sum().nlargest(10).index\n",
    "\n",
    "# これらの上位国のデータをフィルタリング\n",
    "top_countries_data = filtered_data[filtered_data['country'].isin(top_countries)]\n",
    "\n",
    "# これらの国の排出量の傾向をプロット\n",
    "fig = px.line(top_countries_data, x='year', y='greenhouse_gas_emissions', color='country', \n",
    "              title=\"Greenhouse Gas Emissions Trends for Top 10 Countries (2000 - 2022)\")\n",
    "fig.show()"
   ]
  },
  {
   "cell_type": "markdown",
   "metadata": {
    "application/vnd.databricks.v1+cell": {
     "cellMetadata": {},
     "inputWidgets": {},
     "nuid": "4820529f-c2cf-4fce-ab43-7a850bd8b9d8",
     "showTitle": false,
     "tableResultSettingsMap": {},
     "title": ""
    }
   },
   "source": [
    "**洞察**: このチャートから、2000年から2022年にかけて全体的な温室効果ガス排出量が増加傾向にあることがわかります。ただし、いくつかの国では排出量が比較的安定しており、その期間中にわずかに減少していることが見受けられます。"
   ]
  },
  {
   "cell_type": "markdown",
   "metadata": {
    "application/vnd.databricks.v1+cell": {
     "cellMetadata": {
      "byteLimit": 2048000,
      "rowLimit": 10000
     },
     "inputWidgets": {},
     "nuid": "3eda0303-18ed-4abb-afd4-b227164cbb77",
     "showTitle": false,
     "tableResultSettingsMap": {},
     "title": ""
    }
   },
   "source": [
    "## 棒グラフ: 地域別の排出量をフィルタリングしてチャート化"
   ]
  },
  {
   "cell_type": "code",
   "execution_count": 0,
   "metadata": {
    "application/vnd.databricks.v1+cell": {
     "cellMetadata": {
      "byteLimit": 2048000,
      "rowLimit": 10000
     },
     "inputWidgets": {},
     "nuid": "76deac60-0905-4e3c-a07b-f8b75d32ce48",
     "showTitle": false,
     "tableResultSettingsMap": {},
     "title": ""
    }
   },
   "outputs": [],
   "source": [
    "# 地域エンティティを除外\n",
    "regions = ['Africa', 'Asia', 'Europe', 'North America', 'South America', 'Oceania']\n",
    "\n",
    "# 各地域の総排出量を計算\n",
    "regional_emissions = df[df['country'].isin(regions)].groupby('country')['greenhouse_gas_emissions'].sum()\n",
    "\n",
    "# 比較をプロット\n",
    "fig = px.bar(regional_emissions, title=\"Greenhouse Gas Emissions by Region\")\n",
    "fig.show()"
   ]
  },
  {
   "cell_type": "markdown",
   "metadata": {
    "application/vnd.databricks.v1+cell": {
     "cellMetadata": {},
     "inputWidgets": {},
     "nuid": "2624fb67-f9e9-48d8-bdb5-ea774c07b556",
     "showTitle": false,
     "tableResultSettingsMap": {},
     "title": ""
    }
   },
   "source": [
    "**洞察**: このチャートから、アジアが最も多くの温室効果ガスを排出している地域であることがわかります。オセアニア、南アメリカ、アフリカは最も少ない温室効果ガスを排出しています。"
   ]
  },
  {
   "cell_type": "markdown",
   "metadata": {
    "application/vnd.databricks.v1+cell": {
     "cellMetadata": {
      "byteLimit": 2048000,
      "rowLimit": 10000
     },
     "inputWidgets": {},
     "nuid": "8f1bf486-0a0e-4e9d-a062-3dcbfbde253f",
     "showTitle": false,
     "tableResultSettingsMap": {},
     "title": ""
    }
   },
   "source": [
    "## 主要な再生可能エネルギーリーダー10カ国の再生可能エネルギーシェアの成長を計算してグラフ化 (2000-2022)"
   ]
  },
  {
   "cell_type": "code",
   "execution_count": 0,
   "metadata": {
    "application/vnd.databricks.v1+cell": {
     "cellMetadata": {
      "byteLimit": 2048000,
      "rowLimit": 10000
     },
     "inputWidgets": {},
     "nuid": "a4b84973-7fed-4e91-b60b-cfb6c00a1a60",
     "showTitle": false,
     "tableResultSettingsMap": {},
     "title": ""
    }
   },
   "outputs": [],
   "source": [
    "# 再生可能エネルギーのシェアを計算し、新しい列「renewable_share」として保存\n",
    "df['renewable_share'] = df['renewables_consumption'] / df['primary_energy_consumption']\n",
    "\n",
    "# 各国の平均再生可能エネルギーシェアでランク付け\n",
    "renewable_ranking = df.groupby('country')['renewable_share'].mean().sort_values(ascending=False)\n",
    "\n",
    "# 再生可能エネルギーシェアで上位の国をフィルタリング\n",
    "leading_renewable_countries = renewable_ranking.head(10).index\n",
    "leading_renewable_data = df[df['country'].isin(leading_renewable_countries)]\n",
    "\n",
    "# データを2000年から2022年までの年にフィルタリング\n",
    "leading_renewable_data_filter = leading_renewable_data[(leading_renewable_data['year'] >= 2000) & (leading_renewable_data['year'] <= 2022)]\n",
    "\n",
    "# 上位の再生可能エネルギー国の再生可能エネルギーシェアの成長をプロット\n",
    "fig = px.line(leading_renewable_data_filter, x='year', y='renewable_share', color='country', \n",
    "              title=\"Renewable Energy Share Growth Over Time for Leading Countries\")\n",
    "fig.show()"
   ]
  },
  {
   "cell_type": "markdown",
   "metadata": {
    "application/vnd.databricks.v1+cell": {
     "cellMetadata": {},
     "inputWidgets": {},
     "nuid": "ddaf5897-4b5a-42fa-b94d-34b312c85e04",
     "showTitle": false,
     "tableResultSettingsMap": {},
     "title": ""
    }
   },
   "source": [
    "**洞察**: ノルウェーとアイスランドは再生可能エネルギーの分野で世界をリードしており、消費の半分以上が再生可能エネルギーから来ています。アイスランドとスウェーデンは再生可能エネルギーシェアの最大の成長を遂げました。すべての国で時折の減少と増加が見られ、再生可能エネルギーシェアが直線的に成長していないことがわかります。興味深いことに、中部アフリカは2010年代初頭に減少を見せましたが、2020年に回復しました。"
   ]
  },
  {
   "cell_type": "markdown",
   "metadata": {
    "application/vnd.databricks.v1+cell": {
     "cellMetadata": {
      "byteLimit": 2048000,
      "rowLimit": 10000
     },
     "inputWidgets": {},
     "nuid": "a45a3ba7-47ae-4ad7-b4d4-1012f1290641",
     "showTitle": false,
     "tableResultSettingsMap": {},
     "title": ""
    }
   },
   "source": [
    "## 散布図: 主要な排出国10カ国における再生可能エネルギーが排出量に与える影響を示す"
   ]
  },
  {
   "cell_type": "code",
   "execution_count": 0,
   "metadata": {
    "application/vnd.databricks.v1+cell": {
     "cellMetadata": {
      "byteLimit": 2048000,
      "rowLimit": 10000
     },
     "inputWidgets": {},
     "nuid": "21df9cea-78ac-4f98-8368-a539cc4b99a4",
     "showTitle": false,
     "tableResultSettingsMap": {},
     "title": ""
    }
   },
   "outputs": [],
   "source": [
    "# 上位の排出国を選択し、再生可能エネルギーシェアと排出量を計算\n",
    "top_emitters = df.groupby('country')['greenhouse_gas_emissions'].sum().nlargest(10).index\n",
    "top_emitters_data = df[df['country'].isin(top_emitters)]\n",
    "\n",
    "# 再生可能エネルギーシェアと温室効果ガス排出量の関係をプロット\n",
    "fig = px.scatter(top_emitters_data, x='renewable_share', y='greenhouse_gas_emissions', \n",
    "                 color='country', title=\"上位排出国における再生可能エネルギーの排出量への影響\")\n",
    "fig.show()"
   ]
  },
  {
   "cell_type": "markdown",
   "metadata": {
    "application/vnd.databricks.v1+cell": {
     "cellMetadata": {},
     "inputWidgets": {},
     "nuid": "c1db395f-b158-4b9d-b7cf-c3b9116ac391",
     "showTitle": false,
     "tableResultSettingsMap": {},
     "title": ""
    }
   },
   "source": [
    "**洞察**: 国が再生可能エネルギーを多く使用するほど、温室効果ガスの排出量も増加し、総エネルギー消費量が再生可能エネルギー消費量よりも速く増加します。北アメリカは例外で、再生可能エネルギーの割合が増加するにつれて温室効果ガスの排出量は年間を通じて比較的一定のままでした。"
   ]
  },
  {
   "cell_type": "markdown",
   "metadata": {
    "application/vnd.databricks.v1+cell": {
     "cellMetadata": {
      "byteLimit": 2048000,
      "rowLimit": 10000
     },
     "inputWidgets": {},
     "nuid": "332c063f-04b5-48fe-93f9-451d7bb45623",
     "showTitle": false,
     "tableResultSettingsMap": {},
     "title": ""
    }
   },
   "source": [
    "## モデルが予測した世界のエネルギー消費量"
   ]
  },
  {
   "cell_type": "code",
   "execution_count": 0,
   "metadata": {
    "application/vnd.databricks.v1+cell": {
     "cellMetadata": {
      "byteLimit": 2048000,
      "rowLimit": 10000
     },
     "inputWidgets": {},
     "nuid": "04085d49-373c-49bb-a9f4-cf034a8e6fbc",
     "showTitle": false,
     "tableResultSettingsMap": {},
     "title": ""
    }
   },
   "outputs": [],
   "source": [
    "import pandas as pd\n",
    "from statsmodels.tsa.arima.model import ARIMA\n",
    "import matplotlib.pyplot as plt\n",
    "\n",
    "# 年ごとの世界の一次エネルギー消費量を集計\n",
    "global_energy = df[df['country'] == 'World'].groupby('year')['primary_energy_consumption'].sum()\n",
    "\n",
    "# 予測のためのARIMAモデルを構築\n",
    "model = ARIMA(global_energy, order=(1, 1, 1))\n",
    "model_fit = model.fit()\n",
    "forecast = model_fit.forecast(steps=10)  # 10年間の予測\n",
    "\n",
    "# 過去のエネルギー消費量と予測値をプロット\n",
    "plt.plot(global_energy, label='Historical')\n",
    "plt.plot(range(global_energy.index[-1] + 1, global_energy.index[-1] + 11), forecast, label='Forecast')\n",
    "plt.xlabel(\"Year\")\n",
    "plt.ylabel(\"Primary Energy Consumption\")\n",
    "plt.title(\"Projected Global Energy Consumption\")\n",
    "plt.legend()\n",
    "plt.show()"
   ]
  },
  {
   "cell_type": "markdown",
   "metadata": {
    "application/vnd.databricks.v1+cell": {
     "cellMetadata": {},
     "inputWidgets": {},
     "nuid": "e292d7a6-2ceb-48d1-938a-07f49303e407",
     "showTitle": false,
     "tableResultSettingsMap": {},
     "title": ""
    }
   },
   "source": [
    "**洞察**: このモデルは、世界のエネルギー消費量が今後も増加し続けると予測しています。"
   ]
  },
  {
   "cell_type": "markdown",
   "metadata": {
    "application/vnd.databricks.v1+cell": {
     "cellMetadata": {
      "byteLimit": 2048000,
      "rowLimit": 10000
     },
     "inputWidgets": {},
     "nuid": "a9d690d7-7d78-4e47-b09d-e5774fa2324b",
     "showTitle": false,
     "tableResultSettingsMap": {},
     "title": ""
    }
   },
   "source": [
    "# 次のステップ\n",
    "\n",
    "データセットに対して初期の探索的データ分析を行ったので、次のステップを試してみてください：\n",
    "\n",
    "- このノートブックのAppendixセクションで追加のEDA可視化例を参照してください。\n",
    "- このチュートリアルを進める際にエラーが発生した場合は、組み込みのデバッガーを使用してコードをステップ実行してみてください。ノートブックのデバッグ方法については、以下を参照してください ([AWS](https://docs.databricks.com/aws/ja/notebooks/debugger) | [Azure](https://learn.microsoft.com/ja-jp/azure/databricks/notebooks/debugger) | [GCP](https://docs.databricks.com/gcp/ja/notebooks/debugger))。\n",
    "- ノートブックをチームと共有して、分析内容を理解してもらいましょう。付与する権限に応じて、チームメンバーが分析を進めるためのコードを開発したり、さらなる調査のためのコメントや提案を追加したりすることができます。ノートブックの共有方法については、以下を参照してください ([AWS](https://docs.databricks.com/aws/ja/notebooks/notebooks-collaborate#%E3%83%8E%E3%83%BC%E3%83%88%E3%83%96%E3%83%83%E3%82%AF%E3%81%AE%E5%85%B1%E6%9C%89) | [Azure](https://learn.microsoft.com/ja-jp/azure/databricks/notebooks/notebooks-collaborate#share-a-notebook) | [GCP](https://docs.databricks.com/gcp/ja/notebooks/notebooks-collaborate#%E3%83%8E%E3%83%BC%E3%83%88%E3%83%96%E3%83%83%E3%82%AF%E3%81%AE%E5%85%B1%E6%9C%89))。\n",
    "- 分析が完了したら、主要な可視化を含むノートブックダッシュボードを作成して、ステークホルダーと共有しましょう ([AWS](https://docs.databricks.com/aws/ja/notebooks/dashboards) | [Azure](https://learn.microsoft.com/ja-jp/azure/databricks/notebooks/dashboards) | [GCP](https://docs.databricks.com/gcp/ja/notebooks/dashboards))。または、AI/BIダッシュボードを作成して共有することもできます ([AWS](https://docs.databricks.com/aws/ja/dashboards) | [Azure](https://learn.microsoft.com/ja-jp/azure/databricks/dashboards/) | [GCP](https://docs.databricks.com/gcp/ja/dashboards))。"
   ]
  },
  {
   "cell_type": "markdown",
   "metadata": {
    "application/vnd.databricks.v1+cell": {
     "cellMetadata": {
      "byteLimit": 2048000,
      "rowLimit": 10000
     },
     "inputWidgets": {},
     "nuid": "99e5ac95-cd01-422d-90b8-b218cc11f060",
     "showTitle": false,
     "tableResultSettingsMap": {},
     "title": ""
    }
   },
   "source": [
    "# 付録: EDA可視化の追加例"
   ]
  },
  {
   "cell_type": "markdown",
   "metadata": {
    "application/vnd.databricks.v1+cell": {
     "cellMetadata": {
      "byteLimit": 2048000,
      "rowLimit": 10000
     },
     "inputWidgets": {},
     "nuid": "22195091-70d2-4afc-aba3-aaf8bc61d637",
     "showTitle": false,
     "tableResultSettingsMap": {},
     "title": ""
    },
    "papermill": {
     "duration": 0.006054,
     "end_time": "2024-11-02T12:01:10.132668",
     "exception": false,
     "start_time": "2024-11-02T12:01:10.126614",
     "status": "completed"
    },
    "tags": []
   },
   "source": [
    "## エネルギー消費量が多い上位20か国をランク付け"
   ]
  },
  {
   "cell_type": "code",
   "execution_count": 0,
   "metadata": {
    "_kg_hide-input": true,
    "application/vnd.databricks.v1+cell": {
     "cellMetadata": {
      "byteLimit": 2048000,
      "rowLimit": 10000
     },
     "inputWidgets": {},
     "nuid": "3eadada1-3277-4776-9aea-cad86b156804",
     "showTitle": false,
     "tableResultSettingsMap": {},
     "title": ""
    },
    "execution": {
     "iopub.execute_input": "2024-11-02T12:01:10.147260Z",
     "iopub.status.busy": "2024-11-02T12:01:10.146869Z",
     "iopub.status.idle": "2024-11-02T12:01:10.161022Z",
     "shell.execute_reply": "2024-11-02T12:01:10.159674Z"
    },
    "papermill": {
     "duration": 0.024681,
     "end_time": "2024-11-02T12:01:10.163790",
     "exception": false,
     "start_time": "2024-11-02T12:01:10.139109",
     "status": "completed"
    },
    "tags": []
   },
   "outputs": [],
   "source": [
    "# 国ごとにグループ化し、一次エネルギー消費量の合計を計算\n",
    "energy_ranking = df.groupby('country')['primary_energy_consumption'].sum().sort_values(ascending=False)\n",
    "\n",
    "# エネルギー消費量が多い上位20か国を表示\n",
    "display(energy_ranking.head(20))"
   ]
  },
  {
   "cell_type": "markdown",
   "metadata": {
    "application/vnd.databricks.v1+cell": {
     "cellMetadata": {},
     "inputWidgets": {},
     "nuid": "d1e75931-daf0-4043-824a-1f88e246d46d",
     "showTitle": false,
     "tableResultSettingsMap": {},
     "title": ""
    }
   },
   "source": [
    "**洞察**: 出力には国ではない地理的地域が含まれています。代わりに、このチュートリアルの他の可視化で行うように、地域ごとにデータをフィルタリングすることができます。しかし、この出力は依然として有用な洞察を提供します。例えば、アメリカ合衆国は欧州連合全体よりも多くのエネルギーを消費しました。"
   ]
  },
  {
   "cell_type": "markdown",
   "metadata": {
    "application/vnd.databricks.v1+cell": {
     "cellMetadata": {
      "byteLimit": 2048000,
      "rowLimit": 10000
     },
     "inputWidgets": {},
     "nuid": "15e8cd64-ccc3-4a00-ab73-50f82de65088",
     "showTitle": false,
     "tableResultSettingsMap": {},
     "title": ""
    },
    "papermill": {
     "duration": 0.006418,
     "end_time": "2024-11-02T12:01:10.176809",
     "exception": false,
     "start_time": "2024-11-02T12:01:10.170391",
     "status": "completed"
    },
    "tags": []
   },
   "source": [
    "## 再生可能エネルギーの上位20か国をランク付け"
   ]
  },
  {
   "cell_type": "code",
   "execution_count": 0,
   "metadata": {
    "_kg_hide-input": true,
    "application/vnd.databricks.v1+cell": {
     "cellMetadata": {
      "byteLimit": 2048000,
      "rowLimit": 10000
     },
     "inputWidgets": {},
     "nuid": "05f05ab9-2087-4536-8ca6-d0cc8014b872",
     "showTitle": false,
     "tableResultSettingsMap": {},
     "title": ""
    },
    "execution": {
     "iopub.execute_input": "2024-11-02T12:01:10.191885Z",
     "iopub.status.busy": "2024-11-02T12:01:10.191476Z",
     "iopub.status.idle": "2024-11-02T12:01:10.205557Z",
     "shell.execute_reply": "2024-11-02T12:01:10.204099Z"
    },
    "papermill": {
     "duration": 0.024499,
     "end_time": "2024-11-02T12:01:10.207772",
     "exception": false,
     "start_time": "2024-11-02T12:01:10.183273",
     "status": "completed"
    },
    "tags": []
   },
   "outputs": [],
   "source": [
    "# 再生可能エネルギーの割合を計算し、新しい列「renewable_share」として保存\n",
    "df['renewable_share'] = df['renewables_consumption'] / df['primary_energy_consumption']\n",
    "\n",
    "# 国ごとにグループ化し、平均再生可能エネルギー割合でランク付け\n",
    "renewable_ranking = df.groupby('country')['renewable_share'].mean().sort_values(ascending=False)\n",
    "\n",
    "# 再生可能エネルギーで上位20か国\n",
    "display(renewable_ranking.head(20))"
   ]
  },
  {
   "cell_type": "markdown",
   "metadata": {
    "application/vnd.databricks.v1+cell": {
     "cellMetadata": {},
     "inputWidgets": {},
     "nuid": "e7270cc7-b1ad-486c-af62-739b7bdcba8e",
     "showTitle": false,
     "tableResultSettingsMap": {},
     "title": ""
    }
   },
   "source": [
    "**洞察**: この分析から、ノルウェーとアイスランドが再生可能エネルギーの消費において世界をリードしており、消費の半分以上が再生可能エネルギーから来ていることがわかります。"
   ]
  },
  {
   "cell_type": "markdown",
   "metadata": {
    "application/vnd.databricks.v1+cell": {
     "cellMetadata": {
      "byteLimit": 2048000,
      "rowLimit": 10000
     },
     "inputWidgets": {},
     "nuid": "76ffd3bb-63a4-44f7-9b1a-74a65d6e9d40",
     "showTitle": false,
     "tableResultSettingsMap": {},
     "title": ""
    },
    "papermill": {
     "duration": 0.007702,
     "end_time": "2024-11-02T12:01:12.931447",
     "exception": false,
     "start_time": "2024-11-02T12:01:12.923745",
     "status": "completed"
    },
    "tags": []
   },
   "source": [
    "## 所得別の一人当たり消費量のチャート"
   ]
  },
  {
   "cell_type": "code",
   "execution_count": 0,
   "metadata": {
    "_kg_hide-input": true,
    "application/vnd.databricks.v1+cell": {
     "cellMetadata": {
      "byteLimit": 2048000,
      "rowLimit": 10000
     },
     "inputWidgets": {},
     "nuid": "f8a60cdd-6cec-4e89-8491-d6e2db6320e2",
     "showTitle": false,
     "tableResultSettingsMap": {},
     "title": ""
    },
    "execution": {
     "iopub.execute_input": "2024-11-02T12:01:12.949494Z",
     "iopub.status.busy": "2024-11-02T12:01:12.949072Z",
     "iopub.status.idle": "2024-11-02T12:01:13.039275Z",
     "shell.execute_reply": "2024-11-02T12:01:13.038003Z"
    },
    "papermill": {
     "duration": 0.101631,
     "end_time": "2024-11-02T12:01:13.041717",
     "exception": false,
     "start_time": "2024-11-02T12:01:12.940086",
     "status": "completed"
    },
    "tags": []
   },
   "outputs": [],
   "source": [
    "# 所得グループでフィルタリング\n",
    "income_groups = ['Low-income countries', 'High-income countries', 'Upper-middle-income countries']\n",
    "\n",
    "# 各グループの一人当たりエネルギー消費量を計算\n",
    "df['energy_per_capita'] = df['primary_energy_consumption'] / df['population']\n",
    "\n",
    "# 国ごとにグループ化し、各所得グループの平均一人当たりエネルギー消費量を計算\n",
    "income_group_comparison = df[df['country'].isin(income_groups)].groupby('country')['energy_per_capita'].mean()\n",
    "\n",
    "# 比較をプロット\n",
    "fig = px.bar(income_group_comparison, title=\"Energy Consumption per Capita by Income Group\")\n",
    "fig.show()"
   ]
  },
  {
   "cell_type": "markdown",
   "metadata": {
    "application/vnd.databricks.v1+cell": {
     "cellMetadata": {},
     "inputWidgets": {},
     "nuid": "f51accfd-1507-414c-a114-2ef9b4979019",
     "showTitle": false,
     "tableResultSettingsMap": {},
     "title": ""
    }
   },
   "source": [
    "**洞察**: エネルギー消費は高所得国で高く、低所得国でははるかに低い。"
   ]
  },
  {
   "cell_type": "markdown",
   "metadata": {
    "application/vnd.databricks.v1+cell": {
     "cellMetadata": {
      "byteLimit": 2048000,
      "rowLimit": 10000
     },
     "inputWidgets": {},
     "nuid": "ede8c60d-d8e6-4491-b68b-4250f9a7960e",
     "showTitle": false,
     "tableResultSettingsMap": {},
     "title": ""
    },
    "papermill": {
     "duration": 0.007599,
     "end_time": "2024-11-02T12:01:13.159437",
     "exception": false,
     "start_time": "2024-11-02T12:01:13.151838",
     "status": "completed"
    },
    "tags": []
   },
   "source": [
    "## 地域別の一人当たりエネルギー消費量の計算とチャート"
   ]
  },
  {
   "cell_type": "code",
   "execution_count": 0,
   "metadata": {
    "_kg_hide-input": true,
    "application/vnd.databricks.v1+cell": {
     "cellMetadata": {
      "byteLimit": 2048000,
      "rowLimit": 10000
     },
     "inputWidgets": {},
     "nuid": "e9ad43f7-147b-4836-825a-149a6b596216",
     "showTitle": false,
     "tableResultSettingsMap": {},
     "title": ""
    },
    "execution": {
     "iopub.execute_input": "2024-11-02T12:01:13.177170Z",
     "iopub.status.busy": "2024-11-02T12:01:13.176745Z",
     "iopub.status.idle": "2024-11-02T12:01:13.241581Z",
     "shell.execute_reply": "2024-11-02T12:01:13.240429Z"
    },
    "papermill": {
     "duration": 0.076601,
     "end_time": "2024-11-02T12:01:13.243988",
     "exception": false,
     "start_time": "2024-11-02T12:01:13.167387",
     "status": "completed"
    },
    "tags": []
   },
   "outputs": [],
   "source": [
    "# 地域を定義し、各地域の一人当たりの総エネルギー消費量を計算\n",
    "regions = ['Africa', 'Asia', 'Europe', 'North America', 'South America', 'Oceania']\n",
    "df['energy_per_capita'] = df['primary_energy_consumption'] / df['population']\n",
    "regional_energy = df[df['country'].isin(regions)].groupby('country')['energy_per_capita'].mean()\n",
    "\n",
    "# 地域ごとの一人当たりのエネルギー消費量をプロット\n",
    "fig = px.bar(regional_energy, title=\"Energy Consumption per Capita by Region\")\n",
    "fig.show()"
   ]
  },
  {
   "cell_type": "markdown",
   "metadata": {
    "application/vnd.databricks.v1+cell": {
     "cellMetadata": {},
     "inputWidgets": {},
     "nuid": "832a76b7-de1e-42a3-9184-048ab8375726",
     "showTitle": false,
     "tableResultSettingsMap": {},
     "title": ""
    }
   },
   "source": [
    "**洞察**: 北アメリカは一人当たりのエネルギー消費量が最も多い。アフリカとアジアは一人当たりのエネルギー消費量が最も少ない。アジアは温室効果ガスの排出量が最も多いにもかかわらず、一人当たりのエネルギー消費量は最も低い。この相関関係はさらに調査する価値があるかもしれない。"
   ]
  },
  {
   "cell_type": "markdown",
   "metadata": {
    "application/vnd.databricks.v1+cell": {
     "cellMetadata": {
      "byteLimit": 2048000,
      "rowLimit": 10000
     },
     "inputWidgets": {},
     "nuid": "dff038de-59d3-4f18-b735-c2ae747617e2",
     "showTitle": false,
     "tableResultSettingsMap": {},
     "title": ""
    },
    "papermill": {
     "duration": 0.009741,
     "end_time": "2024-11-02T12:01:16.141508",
     "exception": false,
     "start_time": "2024-11-02T12:01:16.131767",
     "status": "completed"
    },
    "tags": []
   },
   "source": [
    "## 時間経過による世界の一人当たりエネルギー消費量のプロット"
   ]
  },
  {
   "cell_type": "code",
   "execution_count": 0,
   "metadata": {
    "_kg_hide-input": true,
    "application/vnd.databricks.v1+cell": {
     "cellMetadata": {
      "byteLimit": 2048000,
      "rowLimit": 10000
     },
     "inputWidgets": {},
     "nuid": "23e3b61f-a4c0-4742-a526-d6172360a2f9",
     "showTitle": false,
     "tableResultSettingsMap": {},
     "title": ""
    },
    "execution": {
     "iopub.execute_input": "2024-11-02T12:01:16.167278Z",
     "iopub.status.busy": "2024-11-02T12:01:16.166583Z",
     "iopub.status.idle": "2024-11-02T12:01:16.234907Z",
     "shell.execute_reply": "2024-11-02T12:01:16.233308Z"
    },
    "papermill": {
     "duration": 0.086313,
     "end_time": "2024-11-02T12:01:16.237818",
     "exception": false,
     "start_time": "2024-11-02T12:01:16.151505",
     "status": "completed"
    },
    "tags": []
   },
   "outputs": [],
   "source": [
    "# 一人当たりのエネルギー消費量を計算\n",
    "df['energy_per_capita'] = df['primary_energy_consumption'] / df['population']\n",
    "# 世界全体の一人当たりエネルギー消費量を時系列でプロット\n",
    "global_energy_per_capita = df[df['country'] == 'World']\n",
    "global_energy_per_capita_filtered = global_energy_per_capita[(global_energy_per_capita['year'] >= 1966) & (global_energy_per_capita['year'] <= 2022)]\n",
    "\n",
    "fig = px.line(global_energy_per_capita_filtered, x='year', y='energy_per_capita', \n",
    "              title=\"Global Energy Consumption per Capita Over Time\")\n",
    "fig.show()"
   ]
  },
  {
   "cell_type": "markdown",
   "metadata": {
    "application/vnd.databricks.v1+cell": {
     "cellMetadata": {},
     "inputWidgets": {},
     "nuid": "7b3d63b5-021f-4d6c-aafa-a3a00185140a",
     "showTitle": false,
     "tableResultSettingsMap": {},
     "title": ""
    }
   },
   "source": [
    "**洞察**: 一般的に、一人当たりのエネルギー消費量は時間とともに増加する傾向があります。60年代と70年代、および2000年代初頭に大きな増加が見られます。"
   ]
  },
  {
   "cell_type": "markdown",
   "metadata": {
    "application/vnd.databricks.v1+cell": {
     "cellMetadata": {
      "byteLimit": 2048000,
      "rowLimit": 10000
     },
     "inputWidgets": {},
     "nuid": "b7c8f172-85c0-47d9-9cae-c858cc59cd69",
     "showTitle": false,
     "tableResultSettingsMap": {},
     "title": ""
    },
    "papermill": {
     "duration": 0.01047,
     "end_time": "2024-11-02T12:01:16.258955",
     "exception": false,
     "start_time": "2024-11-02T12:01:16.248485",
     "status": "completed"
    },
    "tags": []
   },
   "source": [
    "## 散布図: エネルギー消費量の増加 vs. GDPの増加"
   ]
  },
  {
   "cell_type": "code",
   "execution_count": 0,
   "metadata": {
    "_kg_hide-input": true,
    "application/vnd.databricks.v1+cell": {
     "cellMetadata": {
      "byteLimit": 2048000,
      "rowLimit": 10000
     },
     "inputWidgets": {},
     "nuid": "0f8d60ac-fcf0-40d6-9f99-d6f0042a6a5e",
     "showTitle": false,
     "tableResultSettingsMap": {},
     "title": ""
    },
    "execution": {
     "iopub.execute_input": "2024-11-02T12:01:16.281712Z",
     "iopub.status.busy": "2024-11-02T12:01:16.281196Z",
     "iopub.status.idle": "2024-11-02T12:01:16.988517Z",
     "shell.execute_reply": "2024-11-02T12:01:16.987036Z"
    },
    "papermill": {
     "duration": 0.725488,
     "end_time": "2024-11-02T12:01:16.994983",
     "exception": false,
     "start_time": "2024-11-02T12:01:16.269495",
     "status": "completed"
    },
    "tags": []
   },
   "outputs": [],
   "source": [
    "# エネルギー消費量とGDPの前年比成長率を計算\n",
    "df['energy_growth'] = df.groupby('country')['primary_energy_consumption'].pct_change()\n",
    "df['gdp_growth'] = df.groupby('country')['gdp'].pct_change()\n",
    "\n",
    "# 無限大とNaNの値を除外\n",
    "df.replace([np.inf, -np.inf], np.nan, inplace=True)\n",
    "df.dropna(subset=['energy_growth', 'gdp_growth'], inplace=True)\n",
    "\n",
    "# エネルギー消費量の成長率とGDPの成長率をプロット\n",
    "fig = px.scatter(df, x='energy_growth', y='gdp_growth', color='country',\n",
    "                 title=\"Energy Consumption Growth vs. GDP Growth\")\n",
    "fig.show()"
   ]
  },
  {
   "cell_type": "markdown",
   "metadata": {
    "application/vnd.databricks.v1+cell": {
     "cellMetadata": {},
     "inputWidgets": {},
     "nuid": "89f913c2-e983-482d-9412-0f69f1b56f39",
     "showTitle": false,
     "tableResultSettingsMap": {},
     "title": ""
    }
   },
   "source": [
    "**洞察**: 興味深い外れ値がいくつかあります。\n",
    "- クウェートは、エネルギー消費の小さな増加で大きなGDP成長を遂げました。\n",
    "- オマーンと赤道ギニアは、GDPの小さな成長でエネルギー消費の大きな成長を見せました。\n",
    "\n",
    "これらの外れ値をさらに調査し、これらの国で何が起こっていたのかを理解することは興味深いでしょう。"
   ]
  },
  {
   "cell_type": "markdown",
   "metadata": {
    "application/vnd.databricks.v1+cell": {
     "cellMetadata": {
      "byteLimit": 2048000,
      "rowLimit": 10000
     },
     "inputWidgets": {},
     "nuid": "11190a08-4a38-4853-88b5-54d5fd662f99",
     "showTitle": false,
     "tableResultSettingsMap": {},
     "title": ""
    },
    "papermill": {
     "duration": 0.017004,
     "end_time": "2024-11-02T12:01:17.029462",
     "exception": false,
     "start_time": "2024-11-02T12:01:17.012458",
     "status": "completed"
    },
    "tags": []
   },
   "source": [
    "## 散布図: 人口増加 vs. エネルギー消費増加"
   ]
  },
  {
   "cell_type": "code",
   "execution_count": 0,
   "metadata": {
    "_kg_hide-input": true,
    "application/vnd.databricks.v1+cell": {
     "cellMetadata": {
      "byteLimit": 2048000,
      "rowLimit": 10000
     },
     "inputWidgets": {},
     "nuid": "03936671-0fec-40da-9937-62729f1bf629",
     "showTitle": false,
     "tableResultSettingsMap": {},
     "title": ""
    },
    "execution": {
     "iopub.execute_input": "2024-11-02T12:01:17.066504Z",
     "iopub.status.busy": "2024-11-02T12:01:17.066061Z",
     "iopub.status.idle": "2024-11-02T12:01:17.649632Z",
     "shell.execute_reply": "2024-11-02T12:01:17.648522Z"
    },
    "papermill": {
     "duration": 0.609973,
     "end_time": "2024-11-02T12:01:17.657079",
     "exception": false,
     "start_time": "2024-11-02T12:01:17.047106",
     "status": "completed"
    },
    "tags": []
   },
   "outputs": [],
   "source": [
    "# 人口成長率を計算\n",
    "df['population_growth'] = df.groupby('country')['population'].pct_change()\n",
    "\n",
    "# 無限大とNaNの値を除外\n",
    "df.dropna(subset=['population_growth', 'energy_growth'], inplace=True)\n",
    "\n",
    "# 人口成長率とエネルギー消費量の成長率をプロット\n",
    "fig = px.scatter(df, x='population_growth', y='energy_growth', color='country',\n",
    "                 title=\"Population Growth vs. Energy Consumption Growth\")\n",
    "fig.show()"
   ]
  },
  {
   "cell_type": "markdown",
   "metadata": {
    "application/vnd.databricks.v1+cell": {
     "cellMetadata": {},
     "inputWidgets": {},
     "nuid": "b5a06309-f086-4dc9-8ca7-9ca1477eaefb",
     "showTitle": false,
     "tableResultSettingsMap": {},
     "title": ""
    }
   },
   "source": [
    "**洞察**: 一般的に、人口増加はエネルギー消費に大きな影響を与えません。しかし、赤道ギニアとオマーンは、比較的小さな人口増加でエネルギー消費が大幅に増加した年がありました。"
   ]
  },
  {
   "cell_type": "markdown",
   "metadata": {
    "application/vnd.databricks.v1+cell": {
     "cellMetadata": {
      "byteLimit": 2048000,
      "rowLimit": 10000
     },
     "inputWidgets": {},
     "nuid": "d9d5e2f3-2d1f-4fec-be9b-76c4f2f6b5f1",
     "showTitle": false,
     "tableResultSettingsMap": {},
     "title": ""
    },
    "papermill": {
     "duration": 0.022761,
     "end_time": "2024-11-02T12:01:17.703864",
     "exception": false,
     "start_time": "2024-11-02T12:01:17.681103",
     "status": "completed"
    },
    "tags": []
   },
   "source": [
    "## 主要経済国のエネルギー強度の推移をプロット"
   ]
  },
  {
   "cell_type": "code",
   "execution_count": 0,
   "metadata": {
    "_kg_hide-input": true,
    "application/vnd.databricks.v1+cell": {
     "cellMetadata": {
      "byteLimit": 2048000,
      "rowLimit": 10000
     },
     "inputWidgets": {},
     "nuid": "d72888f9-6967-4fe0-a053-ad091974cdda",
     "showTitle": false,
     "tableResultSettingsMap": {},
     "title": ""
    },
    "execution": {
     "iopub.execute_input": "2024-11-02T12:01:17.753192Z",
     "iopub.status.busy": "2024-11-02T12:01:17.752213Z",
     "iopub.status.idle": "2024-11-02T12:01:17.832778Z",
     "shell.execute_reply": "2024-11-02T12:01:17.831460Z"
    },
    "papermill": {
     "duration": 0.107549,
     "end_time": "2024-11-02T12:01:17.835163",
     "exception": false,
     "start_time": "2024-11-02T12:01:17.727614",
     "status": "completed"
    },
    "tags": []
   },
   "outputs": [],
   "source": [
    "# GDPが最も高い5カ国を取得\n",
    "top_economies = df.groupby('country')['gdp'].sum().nlargest(5).index\n",
    "\n",
    "# エネルギー強度を計算（GDPあたりの一次エネルギー消費量）\n",
    "df['energy_intensity'] = df['primary_energy_consumption'] / df['gdp']\n",
    "\n",
    "# 主要経済国のエネルギー強度の平均を時系列で計算\n",
    "intensity_ranking = df[df['country'].isin(top_economies)].groupby(['year', 'country'])['energy_intensity'].mean().reset_index()\n",
    "\n",
    "# 主要経済国のエネルギー強度の推移をプロット\n",
    "fig = px.line(intensity_ranking, x='year', y='energy_intensity', color='country', \n",
    "              title=\"Energy Intensity Over Time for Top Economies\")\n",
    "fig.show()"
   ]
  },
  {
   "cell_type": "markdown",
   "metadata": {
    "application/vnd.databricks.v1+cell": {
     "cellMetadata": {},
     "inputWidgets": {},
     "nuid": "57baef63-5b67-420a-9995-ac37bf3c0430",
     "showTitle": false,
     "tableResultSettingsMap": {},
     "title": ""
    }
   },
   "source": [
    "**洞察**: 一般的に、主要経済国のエネルギー強度は時間とともに低下しました。世界全体のデータは約2015年以前は欠落しています。"
   ]
  }
 ],
 "metadata": {
  "application/vnd.databricks.v1+notebook": {
   "computePreferences": null,
   "dashboards": [],
   "environmentMetadata": null,
   "inputWidgetPreferences": null,
   "language": "python",
   "notebookMetadata": {
    "pythonIndentUnit": 2
   },
   "notebookName": "eda-tutorial-global-energy",
   "widgets": {}
  },
  "kaggle": {
   "accelerator": "none",
   "dataSources": [
    {
     "datasetId": 5901825,
     "sourceId": 9660158,
     "sourceType": "datasetVersion"
    }
   ],
   "dockerImageVersionId": 30786,
   "isGpuEnabled": false,
   "isInternetEnabled": true,
   "language": "python",
   "sourceType": "notebook"
  },
  "kernelspec": {
   "display_name": "Python 3",
   "language": "python",
   "name": "python3"
  },
  "language_info": {
   "name": "python"
  },
  "papermill": {
   "default_parameters": {},
   "duration": 12.696803,
   "end_time": "2024-11-02T12:01:18.581099",
   "environment_variables": {},
   "exception": null,
   "input_path": "__notebook__.ipynb",
   "output_path": "__notebook__.ipynb",
   "parameters": {},
   "start_time": "2024-11-02T12:01:05.884296",
   "version": "2.6.0"
  }
 },
 "nbformat": 4,
 "nbformat_minor": 0
}
